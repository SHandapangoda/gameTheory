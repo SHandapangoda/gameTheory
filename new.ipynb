{
 "metadata": {
  "language_info": {
   "codemirror_mode": {
    "name": "ipython",
    "version": 3
   },
   "file_extension": ".py",
   "mimetype": "text/x-python",
   "name": "python",
   "nbconvert_exporter": "python",
   "pygments_lexer": "ipython3",
   "version": "3.8.10"
  },
  "orig_nbformat": 4,
  "kernelspec": {
   "name": "python3",
   "display_name": "Python 3.8.10 64-bit"
  },
  "interpreter": {
   "hash": "31f2aee4e71d21fbe5cf8b01ff0e069b9275f58929596ceb00d14d90e3e16cd6"
  }
 },
 "nbformat": 4,
 "nbformat_minor": 2,
 "cells": [
  {
   "cell_type": "code",
   "execution_count": 91,
   "source": [
    "import numpy as np\n",
    "from random import random"
   ],
   "outputs": [],
   "metadata": {}
  },
  {
   "cell_type": "code",
   "execution_count": 92,
   "source": [
    "player = [4/7,5/7,3/7]\n",
    "\n",
    "counts =0\n",
    "rounds = 10000\n",
    "su = np.zeros(2)\n",
    "surviour = []\n"
   ],
   "outputs": [],
   "metadata": {}
  },
  {
   "cell_type": "code",
   "execution_count": 93,
   "source": [
    "\n",
    "\n",
    "for i in enumerate(range(rounds)):\n",
    "    while(2):    \n",
    "        r = random()\n",
    "       \n",
    "        #player A success\n",
    "        if(r <= player[0]):\n",
    "            while(1):\n",
    "                r = random()\n",
    "                \n",
    "                if(r <= player[2]):\n",
    "                    surviour = 2\n",
    "                    break\n",
    "                if(r <= player[0]):\n",
    "                    surviour = 0\n",
    "                    break\n",
    "            break\n",
    "        #player B success\n",
    "        if (r <= player[1]):\n",
    "            while(1):\n",
    "                r = random()\n",
    "                \n",
    "                if(r <= player[0]):\n",
    "                    surviour = 0\n",
    "                    break\n",
    "                \n",
    "                if(r <= player[1]):\n",
    "                    surviour = 1\n",
    "                    break\n",
    "            break\n",
    "        # player C success\n",
    "        if(r <= player[2]):\n",
    "            while(1):\n",
    "                r = random()\n",
    "                \n",
    "                if(r <= player[1]):\n",
    "                    surviour = 1\n",
    "                    break\n",
    "                \n",
    "                if(r <= player[2]):\n",
    "                    surviour = 2\n",
    "                    break\n",
    "            break\n",
    "    if(surviour == 2 ):\n",
    "        counts = counts +1\n",
    "\n",
    "print(\"C Survives from:\",counts)\n",
    "print(\"Total Rounds\",len(range(rounds)))\n",
    "print(\"probability C wins\", round(counts/10000 * 100),\"%\")    \n",
    "        "
   ],
   "outputs": [
    {
     "output_type": "stream",
     "name": "stdout",
     "text": [
      "C Survives from: 5990\n",
      "Total Rounds 10000\n",
      "probability C wins 60 %\n"
     ]
    }
   ],
   "metadata": {}
  }
 ]
}