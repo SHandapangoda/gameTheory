{
 "metadata": {
  "language_info": {
   "codemirror_mode": {
    "name": "ipython",
    "version": 3
   },
   "file_extension": ".py",
   "mimetype": "text/x-python",
   "name": "python",
   "nbconvert_exporter": "python",
   "pygments_lexer": "ipython3",
   "version": "3.8.10"
  },
  "orig_nbformat": 4,
  "kernelspec": {
   "name": "python3",
   "display_name": "Python 3.8.10 64-bit"
  },
  "interpreter": {
   "hash": "31f2aee4e71d21fbe5cf8b01ff0e069b9275f58929596ceb00d14d90e3e16cd6"
  }
 },
 "nbformat": 4,
 "nbformat_minor": 2,
 "cells": [
  {
   "cell_type": "code",
   "execution_count": 3,
   "metadata": {},
   "outputs": [],
   "source": [
    "import matplotlib.pyplot as plt \n",
    "import pandas as pd \n",
    "import numpy as np \n",
    "import seaborn as sns\n"
   ]
  },
  {
   "cell_type": "code",
   "execution_count": 4,
   "metadata": {},
   "outputs": [],
   "source": [
    "data = pd.read_csv('notes.csv')"
   ]
  },
  {
   "cell_type": "code",
   "execution_count": 5,
   "metadata": {},
   "outputs": [
    {
     "output_type": "execute_result",
     "data": {
      "text/plain": [
       "   tutor_id                                        Tutor_notes\n",
       "0     93511                         Slide 5 was not completed.\n",
       "1     79246  Continue with the Application slide in the 1st...\n",
       "2     94422  Finished the lesson partition numbers up to 10...\n",
       "3     94429   Student was ready to learn and showed interest. \n",
       "4     94664  Need to complete LO2: Comparing up to 10 milli..."
      ],
      "text/html": "<div>\n<style scoped>\n    .dataframe tbody tr th:only-of-type {\n        vertical-align: middle;\n    }\n\n    .dataframe tbody tr th {\n        vertical-align: top;\n    }\n\n    .dataframe thead th {\n        text-align: right;\n    }\n</style>\n<table border=\"1\" class=\"dataframe\">\n  <thead>\n    <tr style=\"text-align: right;\">\n      <th></th>\n      <th>tutor_id</th>\n      <th>Tutor_notes</th>\n    </tr>\n  </thead>\n  <tbody>\n    <tr>\n      <th>0</th>\n      <td>93511</td>\n      <td>Slide 5 was not completed.</td>\n    </tr>\n    <tr>\n      <th>1</th>\n      <td>79246</td>\n      <td>Continue with the Application slide in the 1st...</td>\n    </tr>\n    <tr>\n      <th>2</th>\n      <td>94422</td>\n      <td>Finished the lesson partition numbers up to 10...</td>\n    </tr>\n    <tr>\n      <th>3</th>\n      <td>94429</td>\n      <td>Student was ready to learn and showed interest.</td>\n    </tr>\n    <tr>\n      <th>4</th>\n      <td>94664</td>\n      <td>Need to complete LO2: Comparing up to 10 milli...</td>\n    </tr>\n  </tbody>\n</table>\n</div>"
     },
     "metadata": {},
     "execution_count": 5
    }
   ],
   "source": [
    "data.head()"
   ]
  },
  {
   "cell_type": "code",
   "execution_count": 6,
   "metadata": {},
   "outputs": [],
   "source": [
    "data['text_lenght'] = data['Tutor_notes'].apply(len)"
   ]
  },
  {
   "cell_type": "code",
   "execution_count": 7,
   "metadata": {},
   "outputs": [
    {
     "output_type": "execute_result",
     "data": {
      "text/plain": [
       "   tutor_id                                        Tutor_notes  text_lenght\n",
       "0     93511                         Slide 5 was not completed.           26\n",
       "1     79246  Continue with the Application slide in the 1st...           50\n",
       "2     94422  Finished the lesson partition numbers up to 10...          124\n",
       "3     94429   Student was ready to learn and showed interest.            48\n",
       "4     94664  Need to complete LO2: Comparing up to 10 milli...           90"
      ],
      "text/html": "<div>\n<style scoped>\n    .dataframe tbody tr th:only-of-type {\n        vertical-align: middle;\n    }\n\n    .dataframe tbody tr th {\n        vertical-align: top;\n    }\n\n    .dataframe thead th {\n        text-align: right;\n    }\n</style>\n<table border=\"1\" class=\"dataframe\">\n  <thead>\n    <tr style=\"text-align: right;\">\n      <th></th>\n      <th>tutor_id</th>\n      <th>Tutor_notes</th>\n      <th>text_lenght</th>\n    </tr>\n  </thead>\n  <tbody>\n    <tr>\n      <th>0</th>\n      <td>93511</td>\n      <td>Slide 5 was not completed.</td>\n      <td>26</td>\n    </tr>\n    <tr>\n      <th>1</th>\n      <td>79246</td>\n      <td>Continue with the Application slide in the 1st...</td>\n      <td>50</td>\n    </tr>\n    <tr>\n      <th>2</th>\n      <td>94422</td>\n      <td>Finished the lesson partition numbers up to 10...</td>\n      <td>124</td>\n    </tr>\n    <tr>\n      <th>3</th>\n      <td>94429</td>\n      <td>Student was ready to learn and showed interest.</td>\n      <td>48</td>\n    </tr>\n    <tr>\n      <th>4</th>\n      <td>94664</td>\n      <td>Need to complete LO2: Comparing up to 10 milli...</td>\n      <td>90</td>\n    </tr>\n  </tbody>\n</table>\n</div>"
     },
     "metadata": {},
     "execution_count": 7
    }
   ],
   "source": [
    "data.head()"
   ]
  },
  {
   "cell_type": "code",
   "execution_count": 14,
   "metadata": {},
   "outputs": [
    {
     "output_type": "execute_result",
     "data": {
      "text/plain": [
       "(532, 3)"
      ]
     },
     "metadata": {},
     "execution_count": 14
    }
   ],
   "source": [
    "data.shape"
   ]
  },
  {
   "cell_type": "code",
   "execution_count": 16,
   "metadata": {},
   "outputs": [
    {
     "output_type": "execute_result",
     "data": {
      "text/plain": [
       "array(['tutor_id', 'Tutor_notes', 'text_lenght'], dtype=object)"
      ]
     },
     "metadata": {},
     "execution_count": 16
    }
   ],
   "source": [
    "data.columns.values"
   ]
  },
  {
   "cell_type": "code",
   "execution_count": 20,
   "metadata": {},
   "outputs": [
    {
     "output_type": "stream",
     "name": "stdout",
     "text": [
      "<class 'pandas.core.frame.DataFrame'>\nRangeIndex: 532 entries, 0 to 531\nData columns (total 3 columns):\n #   Column       Non-Null Count  Dtype \n---  ------       --------------  ----- \n 0   tutor_id     532 non-null    int64 \n 1   Tutor_notes  532 non-null    object\n 2   text_lenght  532 non-null    int64 \ndtypes: int64(2), object(1)\nmemory usage: 12.6+ KB\n"
     ]
    }
   ],
   "source": [
    "data.info()"
   ]
  },
  {
   "cell_type": "code",
   "execution_count": 22,
   "metadata": {},
   "outputs": [
    {
     "output_type": "execute_result",
     "data": {
      "text/plain": [
       "tutor_id  Tutor_notes                                                                                                                                                                                                                          text_lenght\n",
       "136051    since audio issues couldnt teach well (student didn't know anything about rounding)\\nonly could complete the 1st concept slide and that was also all by me.                                                                          154            2\n",
       "121320    20 mins late                                                                                                                                                                                                                         12             2\n",
       "26773     The pupil did well in the lesson                                                                                                                                                                                                     32             2\n",
       "9026      AT 43.13th minute (RKT) student joined in the session but left the session on the spot..                                                                                                                                             88             1\n",
       "111780    Libby performed well throughout the lesson and had a prior knowledge in reading numbers perfectly. Page was not responding from RKT 45:37 to 42:53.\\nOn the whole we had great session.                                              182            1\n",
       "                                                                                                                                                                                                                                                             ..\n",
       "99682     We completed one LO and two slides of second LO. The student was very engaged throughout the session. He was doing mistakes in the starting then he picked up his own mistakes and did good .                                        189            1\n",
       "          We completed first LO and three slides of  second LO. The learner was quite slow in solving the questions though he was putting much efforts.                                                                                        142            1\n",
       "          The session continued by chat mode... We were able to complete one LO. The learner was engaged through out the session and was trying hard.                                                                                          139            1\n",
       "          The learner joined 4 minutes late. The learner was very focused and did the problems independently. We have completed first LO and first slide of second LO. We will start with the second slide in the next session of second LO.   227            1\n",
       "136053    23:13-22:16(RKT)- Tutor NA                                                                                                                                                                                                           27             1\n",
       "Length: 529, dtype: int64"
      ]
     },
     "metadata": {},
     "execution_count": 22
    }
   ],
   "source": [
    "data.value_counts()"
   ]
  },
  {
   "cell_type": "code",
   "execution_count": 28,
   "metadata": {},
   "outputs": [
    {
     "output_type": "execute_result",
     "data": {
      "text/plain": [
       "20 mins late                                                                                                                                                                                                                                                                         2\n",
       "The pupil did well in the lesson                                                                                                                                                                                                                                                     2\n",
       "since audio issues couldnt teach well (student didn't know anything about rounding)\\nonly could complete the 1st concept slide and that was also all by me.                                                                                                                          2\n",
       "All good.                                                                                                                                                                                                                                                                            2\n",
       "We completed the lesson.                                                                                                                                                                                                                                                             2\n",
       "                                                                                                                                                                                                                                                                                    ..\n",
       "Pupil joined  - 44.30 RKT \\nThe student was quick to figure out all her errors and correct them. \\nShe attempted the questions independently after the concept was taught to her. \\nFinished on LO1 slide 5                                                                          1\n",
       "The pupil joined around 17 minutes late, and left the session 2 minutes before the ending time.\\nDue to all the audio problems, we couldn't work on the practice time slide.                                                                                                         1\n",
       "LO1-Pupil did well in practice slide questions, in application slide pupil struggled to understand the question so marked as NMW. LO will be moved as it is the 2nd week of the same LO.\\nTutor forgot to mark the LO1 as completed, will mark it next session after pupil joins.    1\n",
       "completed upto the second slide in 4th LO. start from second concept slide.                                                                                                                                                                                                          1\n",
       "Olivia joined on time. Ended the lesson at 28.00 (RKT) as she was not feeling well therefore, her teacher requested to end the session.                                                                                                                                              1\n",
       "Name: Tutor_notes, Length: 527, dtype: int64"
      ]
     },
     "metadata": {},
     "execution_count": 28
    }
   ],
   "source": [
    "data['Tutor_notes'].value_counts()"
   ]
  },
  {
   "cell_type": "code",
   "execution_count": 29,
   "metadata": {},
   "outputs": [
    {
     "output_type": "execute_result",
     "data": {
      "text/plain": [
       "20 mins late                                                                                                                                                                                                                                                                         0.003759\n",
       "The pupil did well in the lesson                                                                                                                                                                                                                                                     0.003759\n",
       "since audio issues couldnt teach well (student didn't know anything about rounding)\\nonly could complete the 1st concept slide and that was also all by me.                                                                                                                          0.003759\n",
       "All good.                                                                                                                                                                                                                                                                            0.003759\n",
       "We completed the lesson.                                                                                                                                                                                                                                                             0.003759\n",
       "                                                                                                                                                                                                                                                                                       ...   \n",
       "Pupil joined  - 44.30 RKT \\nThe student was quick to figure out all her errors and correct them. \\nShe attempted the questions independently after the concept was taught to her. \\nFinished on LO1 slide 5                                                                          0.001880\n",
       "The pupil joined around 17 minutes late, and left the session 2 minutes before the ending time.\\nDue to all the audio problems, we couldn't work on the practice time slide.                                                                                                         0.001880\n",
       "LO1-Pupil did well in practice slide questions, in application slide pupil struggled to understand the question so marked as NMW. LO will be moved as it is the 2nd week of the same LO.\\nTutor forgot to mark the LO1 as completed, will mark it next session after pupil joins.    0.001880\n",
       "completed upto the second slide in 4th LO. start from second concept slide.                                                                                                                                                                                                          0.001880\n",
       "Olivia joined on time. Ended the lesson at 28.00 (RKT) as she was not feeling well therefore, her teacher requested to end the session.                                                                                                                                              0.001880\n",
       "Name: Tutor_notes, Length: 527, dtype: float64"
      ]
     },
     "metadata": {},
     "execution_count": 29
    }
   ],
   "source": [
    "data['Tutor_notes'].value_counts(normalize=True)"
   ]
  },
  {
   "cell_type": "code",
   "execution_count": null,
   "metadata": {},
   "outputs": [],
   "source": []
  }
 ]
}